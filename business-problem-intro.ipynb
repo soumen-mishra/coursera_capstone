{
 "cells": [
  {
   "cell_type": "markdown",
   "metadata": {},
   "source": [
    "# Introduction\n"
   ]
  },
  {
   "cell_type": "markdown",
   "metadata": {},
   "source": [
    "The City of New York, is the most populous city in the United States. It is diverse and is the financial\n",
    "capital of USA. It is multicultural. It provides lot of business oppourtunities and business friendly\n",
    "environment. It has attracted many different players into the market. It is a global hub of business and\n",
    "commerce. The city is a major center for banking and finance, retailing, world trade, transportation,\n",
    "tourism, real estate, new media, traditional media, advertising, legal services, accountancy, insurance,\n",
    "theater, fashion, and the arts in the United States.\n",
    "This also means that the market is highly competitive. As it is highly developed city so cost of doing\n",
    "business is also one of the highest. Thus, any new business venture or expansion needs to be analysed\n",
    "carefully. The insights derived from analysis will give good understanding of the business\n",
    "environment which help in strategically targeting the market. This will help in reduction of risk. And\n",
    "the Return on Investment will be reasonable. \n"
   ]
  },
  {
   "cell_type": "markdown",
   "metadata": {},
   "source": [
    "## Business Problem\n"
   ]
  },
  {
   "cell_type": "markdown",
   "metadata": {},
   "source": [
    "The City of New York is famous for its entertaining culture. The dance culture comprises of various international clubs inclined by the city's immigrant history. Dance clubs became very popular in the United States and it spread across various location across the geographical area. The rich culture with lively people makes thing more attractive for international travels to enable evening entertainment options.\n",
    "\n",
    "The need of the hour is to get a dance club nearby accompanied with security, low cost and hygienic environment. The Business problem depicted in this project is to address an user friendly searching app which encapsulated with easy searching techniques and highly trained machine learning models."
   ]
  },
  {
   "cell_type": "code",
   "execution_count": null,
   "metadata": {},
   "outputs": [],
   "source": []
  }
 ],
 "metadata": {
  "kernelspec": {
   "display_name": "Python 3",
   "language": "python",
   "name": "python3"
  },
  "language_info": {
   "codemirror_mode": {
    "name": "ipython",
    "version": 3
   },
   "file_extension": ".py",
   "mimetype": "text/x-python",
   "name": "python",
   "nbconvert_exporter": "python",
   "pygments_lexer": "ipython3",
   "version": "3.7.0"
  }
 },
 "nbformat": 4,
 "nbformat_minor": 2
}
